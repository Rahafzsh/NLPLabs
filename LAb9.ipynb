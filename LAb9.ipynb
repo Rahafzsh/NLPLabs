{
  "cells": [
    {
      "cell_type": "markdown",
      "metadata": {
        "colab_type": "text",
        "id": "view-in-github"
      },
      "source": [
        "<a href=\"https://colab.research.google.com/github/Rahafzsh/NLP-Labs/blob/main/LAb9.ipynb\" target=\"_parent\"><img src=\"https://colab.research.google.com/assets/colab-badge.svg\" alt=\"Open In Colab\"/></a>"
      ]
    },
    {
      "cell_type": "code",
      "execution_count": 1,
      "id": "d63fb974",
      "metadata": {
        "colab": {
          "base_uri": "https://localhost:8080/"
        },
        "id": "d63fb974",
        "outputId": "70e256fe-5cf4-4b7d-bd1e-4c21a6970766"
      },
      "outputs": [
        {
          "name": "stderr",
          "output_type": "stream",
          "text": [
            "[nltk_data] Downloading package punkt to\n",
            "[nltk_data]     C:\\Users\\iraha\\AppData\\Roaming\\nltk_data...\n",
            "[nltk_data]   Unzipping tokenizers\\punkt.zip.\n",
            "[nltk_data] Downloading package averaged_perceptron_tagger to\n",
            "[nltk_data]     C:\\Users\\iraha\\AppData\\Roaming\\nltk_data...\n",
            "[nltk_data]   Unzipping taggers\\averaged_perceptron_tagger.zip.\n",
            "[nltk_data] Downloading package maxent_ne_chunker to\n",
            "[nltk_data]     C:\\Users\\iraha\\AppData\\Roaming\\nltk_data...\n",
            "[nltk_data]   Unzipping chunkers\\maxent_ne_chunker.zip.\n",
            "[nltk_data] Downloading package words to\n",
            "[nltk_data]     C:\\Users\\iraha\\AppData\\Roaming\\nltk_data...\n",
            "[nltk_data]   Unzipping corpora\\words.zip.\n",
            "[nltk_data] Downloading package treebank to\n",
            "[nltk_data]     C:\\Users\\iraha\\AppData\\Roaming\\nltk_data...\n",
            "[nltk_data]   Unzipping corpora\\treebank.zip.\n",
            "[nltk_data] Downloading package book_grammars to\n",
            "[nltk_data]     C:\\Users\\iraha\\AppData\\Roaming\\nltk_data...\n",
            "[nltk_data]   Unzipping grammars\\book_grammars.zip.\n"
          ]
        },
        {
          "data": {
            "text/plain": [
              "True"
            ]
          },
          "execution_count": 1,
          "metadata": {},
          "output_type": "execute_result"
        }
      ],
      "source": [
        "import nltk\n",
        "nltk.download('punkt')\n",
        "nltk.download('averaged_perceptron_tagger')\n",
        "nltk.download('maxent_ne_chunker')\n",
        "nltk.download('words')\n",
        "nltk.download('treebank')\n",
        "nltk.download('book_grammars')"
      ]
    },
    {
      "cell_type": "code",
      "execution_count": 2,
      "id": "44edfde4",
      "metadata": {
        "colab": {
          "base_uri": "https://localhost:8080/"
        },
        "id": "44edfde4",
        "outputId": "17aac777-b6ad-48ce-d237-b4a65fef8649"
      },
      "outputs": [
        {
          "name": "stdout",
          "output_type": "stream",
          "text": [
            "Syntactic parsing is the process of analyzing the grammatical structure of a sentence.  NLTK is a popular library for natural language processing.\n"
          ]
        },
        {
          "data": {
            "text/plain": [
              "['Syntactic',\n",
              " 'parsing',\n",
              " 'is',\n",
              " 'the',\n",
              " 'process',\n",
              " 'of',\n",
              " 'analyzing',\n",
              " 'the',\n",
              " 'grammatical',\n",
              " 'structure',\n",
              " 'of',\n",
              " 'a',\n",
              " 'sentence',\n",
              " '.',\n",
              " 'NLTK',\n",
              " 'is',\n",
              " 'a',\n",
              " 'popular',\n",
              " 'library',\n",
              " 'for',\n",
              " 'natural',\n",
              " 'language',\n",
              " 'processing',\n",
              " '.']"
            ]
          },
          "execution_count": 2,
          "metadata": {},
          "output_type": "execute_result"
        }
      ],
      "source": [
        "from nltk.tokenize import sent_tokenize, word_tokenize\n",
        "\n",
        "\n",
        "text = \"Syntactic parsing is the process of analyzing the grammatical structure of a sentence. \\nNLTK is a popular library for natural language processing.\"\n",
        "one_text = text.replace('\\n', ' ')\n",
        "print(one_text)\n",
        "\n",
        "\n",
        "words = word_tokenize(text)\n",
        "words"
      ]
    },
    {
      "cell_type": "code",
      "execution_count": 3,
      "id": "099ef5f3",
      "metadata": {
        "colab": {
          "base_uri": "https://localhost:8080/"
        },
        "id": "099ef5f3",
        "outputId": "2261b8de-f388-4295-9851-a09685b42d96",
        "scrolled": false
      },
      "outputs": [
        {
          "data": {
            "text/plain": [
              "[('Syntactic', 'JJ'),\n",
              " ('parsing', 'NN'),\n",
              " ('is', 'VBZ'),\n",
              " ('the', 'DT'),\n",
              " ('process', 'NN'),\n",
              " ('of', 'IN'),\n",
              " ('analyzing', 'VBG'),\n",
              " ('the', 'DT'),\n",
              " ('grammatical', 'JJ'),\n",
              " ('structure', 'NN'),\n",
              " ('of', 'IN'),\n",
              " ('a', 'DT'),\n",
              " ('sentence', 'NN'),\n",
              " ('.', '.'),\n",
              " ('NLTK', 'NNP'),\n",
              " ('is', 'VBZ'),\n",
              " ('a', 'DT'),\n",
              " ('popular', 'JJ'),\n",
              " ('library', 'NN'),\n",
              " ('for', 'IN'),\n",
              " ('natural', 'JJ'),\n",
              " ('language', 'NN'),\n",
              " ('processing', 'NN'),\n",
              " ('.', '.')]"
            ]
          },
          "execution_count": 3,
          "metadata": {},
          "output_type": "execute_result"
        }
      ],
      "source": [
        "from nltk import pos_tag\n",
        "\n",
        "pos_tagged_words = pos_tag(words)\n",
        "pos_tagged_words"
      ]
    },
    {
      "cell_type": "code",
      "execution_count": 4,
      "id": "1e02be40",
      "metadata": {
        "colab": {
          "base_uri": "https://localhost:8080/",
          "height": 390
        },
        "id": "1e02be40",
        "outputId": "23d18fcd-af85-47ce-b2f5-9acf2064eae8"
      },
      "outputs": [],
      "source": [
        "import nltk\n",
        "\n",
        "#my trail\n",
        "pattern=\"\"\"    NP: {<DT>?<JJ>*<NN>}   # NP\n",
        "    P: {<IN>}               # Preposition\n",
        "    V: {<V.*>}              # Verb\n",
        "    PP: {<P> <NP>}          # PP -> P NP\n",
        "    VP: {<V> <NP|PP>*}      # VP -> V (NP|PP)*\"\"\"\n",
        "\n",
        "NPChunker = nltk.RegexpParser(pattern)\n",
        "result = NPChunker.parse(pos_tagged_words)\n",
        "result.draw()"
      ]
    },
    {
      "cell_type": "code",
      "execution_count": null,
      "id": "23834d80",
      "metadata": {
        "id": "23834d80"
      },
      "outputs": [],
      "source": []
    }
  ],
  "metadata": {
    "colab": {
      "include_colab_link": true,
      "provenance": []
    },
    "kernelspec": {
      "display_name": "Python 3 (ipykernel)",
      "language": "python",
      "name": "python3"
    },
    "language_info": {
      "codemirror_mode": {
        "name": "ipython",
        "version": 3
      },
      "file_extension": ".py",
      "mimetype": "text/x-python",
      "name": "python",
      "nbconvert_exporter": "python",
      "pygments_lexer": "ipython3",
      "version": "3.11.5"
    }
  },
  "nbformat": 4,
  "nbformat_minor": 5
}
